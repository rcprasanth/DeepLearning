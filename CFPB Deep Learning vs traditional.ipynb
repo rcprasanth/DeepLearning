{
 "cells": [
  {
   "cell_type": "markdown",
   "metadata": {},
   "source": [
    "#### Import Libraries"
   ]
  },
  {
   "cell_type": "code",
   "execution_count": 1,
   "metadata": {},
   "outputs": [],
   "source": [
    "import pandas as pd # data wrangling\n",
    "import tensorflow as tf # deep learning\n",
    "import numpy as np # math\n",
    "from tensorflow import keras\n",
    "from sklearn.model_selection import train_test_split\n",
    "import matplotlib.pyplot as plt # data viz 1\n",
    "import seaborn as sns # data viz 2\n",
    "import statistics"
   ]
  },
  {
   "cell_type": "markdown",
   "metadata": {},
   "source": [
    "#### Import data"
   ]
  },
  {
   "cell_type": "code",
   "execution_count": 2,
   "metadata": {},
   "outputs": [
    {
     "name": "stdout",
     "output_type": "stream",
     "text": [
      "Dataframe's shape (144319, 3)\n",
      "Unique # of Complaints 144319\n"
     ]
    }
   ],
   "source": [
    "complaints_df = pd.read_csv('complaints-2019-06-29_08_09.csv', usecols = ['Product', 'Complaint ID', 'Consumer complaint narrative'])\n",
    "complaints_df.drop_duplicates(inplace=True)\n",
    "print(\"Dataframe's shape\", complaints_df.shape)\n",
    "print(\"Unique # of Complaints\", len(complaints_df['Complaint ID'].unique()))"
   ]
  },
  {
   "cell_type": "code",
   "execution_count": 3,
   "metadata": {},
   "outputs": [
    {
     "data": {
      "text/plain": [
       "Credit reporting, credit repair services, or other personal consumer reports    59944\n",
       "Debt collection                                                                 31538\n",
       "Credit card or prepaid card                                                     14483\n",
       "Mortgage                                                                        12475\n",
       "Checking or savings account                                                      8676\n",
       "Name: Product, dtype: int64"
      ]
     },
     "execution_count": 3,
     "metadata": {},
     "output_type": "execute_result"
    }
   ],
   "source": [
    "complaints_df.Product.value_counts().head()"
   ]
  },
  {
   "cell_type": "code",
   "execution_count": 4,
   "metadata": {},
   "outputs": [],
   "source": [
    "complaints_df['is_debt_collection'] = np.where(complaints_df['Product']=='Debt collection', 1, 0)"
   ]
  },
  {
   "cell_type": "code",
   "execution_count": 5,
   "metadata": {},
   "outputs": [
    {
     "data": {
      "text/plain": [
       "0    112781\n",
       "1     31538\n",
       "Name: is_debt_collection, dtype: int64"
      ]
     },
     "execution_count": 5,
     "metadata": {},
     "output_type": "execute_result"
    }
   ],
   "source": [
    "complaints_df.is_debt_collection.value_counts()"
   ]
  },
  {
   "cell_type": "code",
   "execution_count": 6,
   "metadata": {},
   "outputs": [],
   "source": [
    "train_df, test_df = train_test_split(complaints_df, test_size = 0.3)"
   ]
  },
  {
   "cell_type": "code",
   "execution_count": 7,
   "metadata": {},
   "outputs": [],
   "source": [
    "tokenizer_ks = keras.preprocessing.text.Tokenizer(num_words=6000, filters='!\"#%&()*+,-./:;<=>?@[\\\\]^_`{|}~\\t\\n', lower=True, split=' ', char_level=False, oov_token=None, document_count=0)"
   ]
  },
  {
   "cell_type": "code",
   "execution_count": 8,
   "metadata": {},
   "outputs": [],
   "source": [
    "tokenizer_ks.fit_on_texts(train_df['Consumer complaint narrative'])"
   ]
  },
  {
   "cell_type": "code",
   "execution_count": 9,
   "metadata": {},
   "outputs": [
    {
     "name": "stdout",
     "output_type": "stream",
     "text": [
      "[[3, 11, 250, 935, 505]]\n"
     ]
    }
   ],
   "source": [
    "print(tokenizer_ks.texts_to_sequences([\"i was charged extra $\"])) "
   ]
  },
  {
   "cell_type": "code",
   "execution_count": 10,
   "metadata": {},
   "outputs": [],
   "source": [
    "train_vec = tokenizer_ks.texts_to_sequences(train_df['Consumer complaint narrative'])\n",
    "test_vec  = tokenizer_ks.texts_to_sequences(test_df['Consumer complaint narrative'])"
   ]
  },
  {
   "cell_type": "code",
   "execution_count": 11,
   "metadata": {},
   "outputs": [],
   "source": [
    "lengths = [len(i) for i in train_vec]"
   ]
  },
  {
   "cell_type": "code",
   "execution_count": 12,
   "metadata": {},
   "outputs": [
    {
     "data": {
      "text/plain": [
       "<matplotlib.axes._subplots.AxesSubplot at 0x24644dc7f98>"
      ]
     },
     "execution_count": 12,
     "metadata": {},
     "output_type": "execute_result"
    },
    {
     "data": {
      "image/png": "[encoded data removed]",
      "text/plain": [
       "<Figure size 1152x576 with 1 Axes>"
      ]
     },
     "metadata": {
      "needs_background": "light"
     },
     "output_type": "display_data"
    }
   ],
   "source": [
    "plt.figure(figsize=(16, 8))\n",
    "sns.set_style('whitegrid')\n",
    "sns.kdeplot(np.array(lengths), bw=0.5, shade=True)"
   ]
  },
  {
   "cell_type": "code",
   "execution_count": 13,
   "metadata": {},
   "outputs": [],
   "source": [
    "train_data = keras.preprocessing.sequence.pad_sequences(train_vec,\n",
    "                                                        padding='post',\n",
    "                                                        maxlen=256)\n",
    "\n",
    "test_data = keras.preprocessing.sequence.pad_sequences(test_vec,\n",
    "                                                       padding='post',\n",
    "                                                       maxlen=256)"
   ]
  },
  {
   "cell_type": "code",
   "execution_count": 14,
   "metadata": {},
   "outputs": [],
   "source": [
    "reverse_word_index = dict([(value, key) for (key, value) in tokenizer_ks.word_index.items()])\n",
    "\n",
    "def decode_review(text):\n",
    "    return ' '.join([reverse_word_index.get(i, '?') for i in text])"
   ]
  },
  {
   "cell_type": "code",
   "execution_count": 15,
   "metadata": {},
   "outputs": [
    {
     "data": {
      "text/plain": [
       "\"house on the market and i asked for a pay off statement and they included late fees i called them several times sent many emails but they are being unreasonable it has been very stressful to deal with them recently i was able to make a payment on line but they have included late fees and i can't make the payment online unless i pay the amount they specify there which includes a late fee i have asked them to remove the late fee so i can pay online but they have not done it this month i paid over the phone because of the issues i'm having with them i didn't want my check to get there after the xxxx they charged me a convenience fee $12 00 i really need this issue to be solved because once i sell my house i don't want to see late fees included in my pay off amount it is not right i have a question my mortgage is variable but since my bankruptcy from xxxx to xxxx xxxx made very little changes in my monthly payment after it changed to sls they have increased my payment by around $20 00 every 6 month and i want to know if they are allowed to do that i know it was a variable rate mortgage but the debt was discharged and i understood that's why xxxx made very little changes to my monthly payment amount please let me know if you can help me with this problem thank you\""
      ]
     },
     "execution_count": 15,
     "metadata": {},
     "output_type": "execute_result"
    }
   ],
   "source": [
    "decode_review(train_data[0])"
   ]
  },
  {
   "cell_type": "code",
   "execution_count": 16,
   "metadata": {},
   "outputs": [
    {
     "data": {
      "text/plain": [
       "\"my mortgage debt was discharged in xxxx since then i'm voluntarily paying the mortgage i do want to keep my home since xxxx have not missed a single payment sometimes i send i paid after the xxxx of the month but always before the xxxx xxxx was servicing my mortgage since xxxx and i never had any issues with them last year the servicing of my mortgage was transferred to sls and my problems started first i wasn't able to pay online like i did before they told me i wasn't allowed because i had filed for bankruptcy i never missed a payment since xxxx but sometimes my check at their office a few days after the xxxx of the month and they started to charge me late fees i retired this year and i receive my pension every xxxx wednesday of the month i called to remind them my debt was discharged and that i was voluntarily paying my mortgage and they couldn't charge me late fees for a debt i legally don't own they were rude to me asked to speak to the manager but he didn't want to speak with me and they told me the late fees would stay i sent several emails and sent also a copy of the discharged papers i was supposed to send to all debtors after i sent the bankruptcy document sls have changed the wording in my statements late fees was changed into unpaid fees i can prove without a doubt i have not missed a single payment so i don't have any unpaid fees i put my house on the market and i asked for a pay off statement and they included late fees i called them several times sent many emails but they are being unreasonable it has been very stressful to deal with them recently i was able to make a payment on line but they have included late fees and i can't make the payment online unless i pay the amount they specify there which includes a late fee i have asked them to remove the late fee so i can pay online but they have not done it this month i paid over the phone because of the issues i'm having with them i didn't want my check to get there after the xxxx they charged me a convenience fee $12 00 i really need this issue to be solved because once i sell my house i don't want to see late fees included in my pay off amount it is not right i have a question my mortgage is variable but since my bankruptcy from xxxx to xxxx xxxx made very little changes in my monthly payment after it changed to sls they have increased my payment by around $20 00 every 6 month and i want to know if they are allowed to do that i know it was a variable rate mortgage but the debt was discharged and i understood that's why xxxx made very little changes to my monthly payment amount please let me know if you can help me with this problem thank you\""
      ]
     },
     "execution_count": 16,
     "metadata": {},
     "output_type": "execute_result"
    }
   ],
   "source": [
    "decode_review(train_vec[0])"
   ]
  },
  {
   "cell_type": "code",
   "execution_count": 17,
   "metadata": {},
   "outputs": [
    {
     "name": "stdout",
     "output_type": "stream",
     "text": [
      "WARNING:tensorflow:From C:\\Users\\rcpra\\Anaconda3\\lib\\site-packages\\tensorflow\\python\\ops\\resource_variable_ops.py:435: colocate_with (from tensorflow.python.framework.ops) is deprecated and will be removed in a future version.\n",
      "Instructions for updating:\n",
      "Colocations handled automatically by placer.\n",
      "_________________________________________________________________\n",
      "Layer (type)                 Output Shape              Param #   \n",
      "=================================================================\n",
      "embedding (Embedding)        (None, None, 16)          96000     \n",
      "_________________________________________________________________\n",
      "global_average_pooling1d (Gl (None, 16)                0         \n",
      "_________________________________________________________________\n",
      "dense (Dense)                (None, 16)                272       \n",
      "_________________________________________________________________\n",
      "dense_1 (Dense)              (None, 1)                 17        \n",
      "=================================================================\n",
      "Total params: 96,289\n",
      "Trainable params: 96,289\n",
      "Non-trainable params: 0\n",
      "_________________________________________________________________\n"
     ]
    }
   ],
   "source": [
    "# input shape is the vocabulary count used for the complaint data (6000 words)\n",
    "vocab_size = 6000\n",
    "\n",
    "model = keras.Sequential()\n",
    "model.add(keras.layers.Embedding(vocab_size, 16))\n",
    "model.add(keras.layers.GlobalAveragePooling1D())\n",
    "model.add(keras.layers.Dense(16, activation=tf.nn.relu))\n",
    "model.add(keras.layers.Dense(1, activation=tf.nn.sigmoid))\n",
    "\n",
    "model.summary()"
   ]
  },
  {
   "cell_type": "code",
   "execution_count": 18,
   "metadata": {},
   "outputs": [],
   "source": [
    "model.compile(optimizer='adam',\n",
    "              loss='binary_crossentropy',\n",
    "              metrics=['acc'])"
   ]
  },
  {
   "cell_type": "code",
   "execution_count": 19,
   "metadata": {},
   "outputs": [],
   "source": [
    "x_val = train_data[:10000]\n",
    "partial_x_train = train_data[10000:]\n",
    "\n",
    "y_val = train_df.is_debt_collection[:10000]\n",
    "partial_y_train = train_df.is_debt_collection[10000:]"
   ]
  },
  {
   "cell_type": "code",
   "execution_count": 20,
   "metadata": {},
   "outputs": [
    {
     "data": {
      "text/plain": [
       "(10000, 256)"
      ]
     },
     "execution_count": 20,
     "metadata": {},
     "output_type": "execute_result"
    }
   ],
   "source": [
    "x_val.shape"
   ]
  },
  {
   "cell_type": "code",
   "execution_count": 21,
   "metadata": {},
   "outputs": [
    {
     "data": {
      "text/plain": [
       "(91023, 256)"
      ]
     },
     "execution_count": 21,
     "metadata": {},
     "output_type": "execute_result"
    }
   ],
   "source": [
    "partial_x_train.shape"
   ]
  },
  {
   "cell_type": "code",
   "execution_count": 22,
   "metadata": {
    "scrolled": false
   },
   "outputs": [
    {
     "name": "stdout",
     "output_type": "stream",
     "text": [
      "Train on 91023 samples, validate on 10000 samples\n",
      "WARNING:tensorflow:From C:\\Users\\rcpra\\Anaconda3\\lib\\site-packages\\tensorflow\\python\\ops\\math_ops.py:3066: to_int32 (from tensorflow.python.ops.math_ops) is deprecated and will be removed in a future version.\n",
      "Instructions for updating:\n",
      "Use tf.cast instead.\n",
      "Epoch 1/40\n",
      "91023/91023 [==============================] - 9s 97us/sample - loss: 0.5553 - acc: 0.7803 - val_loss: 0.4957 - val_acc: 0.7806\n",
      "Epoch 2/40\n",
      "91023/91023 [==============================] - 7s 78us/sample - loss: 0.4488 - acc: 0.7867 - val_loss: 0.3755 - val_acc: 0.8217\n",
      "Epoch 3/40\n",
      "91023/91023 [==============================] - 7s 78us/sample - loss: 0.3168 - acc: 0.8656 - val_loss: 0.2799 - val_acc: 0.8843\n",
      "Epoch 4/40\n",
      "91023/91023 [==============================] - 7s 81us/sample - loss: 0.2688 - acc: 0.8938 - val_loss: 0.2595 - val_acc: 0.8954\n",
      "Epoch 5/40\n",
      "91023/91023 [==============================] - 7s 76us/sample - loss: 0.2539 - acc: 0.9008 - val_loss: 0.2503 - val_acc: 0.9030\n",
      "Epoch 6/40\n",
      "91023/91023 [==============================] - 8s 85us/sample - loss: 0.2452 - acc: 0.9043 - val_loss: 0.2455 - val_acc: 0.9018\n",
      "Epoch 7/40\n",
      "91023/91023 [==============================] - 7s 75us/sample - loss: 0.2381 - acc: 0.9077 - val_loss: 0.2412 - val_acc: 0.9038\n",
      "Epoch 8/40\n",
      "91023/91023 [==============================] - 7s 73us/sample - loss: 0.2322 - acc: 0.9102 - val_loss: 0.2369 - val_acc: 0.9058\n",
      "Epoch 9/40\n",
      "91023/91023 [==============================] - 7s 73us/sample - loss: 0.2267 - acc: 0.9121 - val_loss: 0.2339 - val_acc: 0.9072\n",
      "Epoch 10/40\n",
      "91023/91023 [==============================] - 6s 68us/sample - loss: 0.2221 - acc: 0.9133 - val_loss: 0.2314 - val_acc: 0.9106\n",
      "Epoch 11/40\n",
      "91023/91023 [==============================] - 7s 72us/sample - loss: 0.2184 - acc: 0.9152 - val_loss: 0.2298 - val_acc: 0.9118\n",
      "Epoch 12/40\n",
      "91023/91023 [==============================] - 6s 70us/sample - loss: 0.2153 - acc: 0.9164 - val_loss: 0.2289 - val_acc: 0.9117\n",
      "Epoch 13/40\n",
      "91023/91023 [==============================] - 6s 67us/sample - loss: 0.2126 - acc: 0.9174 - val_loss: 0.2279 - val_acc: 0.9123\n",
      "Epoch 14/40\n",
      "91023/91023 [==============================] - 7s 75us/sample - loss: 0.2102 - acc: 0.9182 - val_loss: 0.2282 - val_acc: 0.9099\n",
      "Epoch 15/40\n",
      "91023/91023 [==============================] - 8s 92us/sample - loss: 0.2078 - acc: 0.9192 - val_loss: 0.2272 - val_acc: 0.9105\n",
      "Epoch 16/40\n",
      "91023/91023 [==============================] - 8s 87us/sample - loss: 0.2059 - acc: 0.9199 - val_loss: 0.2267 - val_acc: 0.9112 0.9\n",
      "Epoch 17/40\n",
      "91023/91023 [==============================] - 9s 94us/sample - loss: 0.2040 - acc: 0.9207 - val_loss: 0.2262 - val_acc: 0.9113\n",
      "Epoch 18/40\n",
      "91023/91023 [==============================] - 6s 69us/sample - loss: 0.2021 - acc: 0.9218 - val_loss: 0.2279 - val_acc: 0.9095\n",
      "Epoch 19/40\n",
      "91023/91023 [==============================] - 6s 62us/sample - loss: 0.2006 - acc: 0.9217 - val_loss: 0.2261 - val_acc: 0.9126\n",
      "Epoch 20/40\n",
      "91023/91023 [==============================] - 7s 80us/sample - loss: 0.1989 - acc: 0.9226 - val_loss: 0.2262 - val_acc: 0.9124\n",
      "Epoch 21/40\n",
      "91023/91023 [==============================] - 7s 75us/sample - loss: 0.1973 - acc: 0.9233 - val_loss: 0.2262 - val_acc: 0.9126\n",
      "Epoch 22/40\n",
      "91023/91023 [==============================] - 6s 62us/sample - loss: 0.1960 - acc: 0.9235 - val_loss: 0.2261 - val_acc: 0.9130\n",
      "Epoch 23/40\n",
      "91023/91023 [==============================] - 7s 76us/sample - loss: 0.1947 - acc: 0.9243 - val_loss: 0.2261 - val_acc: 0.9124\n",
      "Epoch 24/40\n",
      "91023/91023 [==============================] - 6s 66us/sample - loss: 0.1930 - acc: 0.9248 - val_loss: 0.2287 - val_acc: 0.9113\n",
      "Epoch 25/40\n",
      "91023/91023 [==============================] - 6s 63us/sample - loss: 0.1922 - acc: 0.9248 - val_loss: 0.2277 - val_acc: 0.9118\n",
      "Epoch 26/40\n",
      "91023/91023 [==============================] - 5s 60us/sample - loss: 0.1908 - acc: 0.9253 - val_loss: 0.2306 - val_acc: 0.9096\n",
      "Epoch 27/40\n",
      "91023/91023 [==============================] - 6s 65us/sample - loss: 0.1892 - acc: 0.9255 - val_loss: 0.2296 - val_acc: 0.9106\n",
      "Epoch 28/40\n",
      "91023/91023 [==============================] - 6s 65us/sample - loss: 0.1878 - acc: 0.9256 - val_loss: 0.2282 - val_acc: 0.9121\n",
      "Epoch 29/40\n",
      "91023/91023 [==============================] - 7s 81us/sample - loss: 0.1867 - acc: 0.9260 - val_loss: 0.2280 - val_acc: 0.9127\n",
      "Epoch 30/40\n",
      "91023/91023 [==============================] - 7s 79us/sample - loss: 0.1857 - acc: 0.9261 - val_loss: 0.2288 - val_acc: 0.9122\n",
      "Epoch 31/40\n",
      "91023/91023 [==============================] - 5s 60us/sample - loss: 0.1843 - acc: 0.9268 - val_loss: 0.2289 - val_acc: 0.9131\n",
      "Epoch 32/40\n",
      "91023/91023 [==============================] - 7s 78us/sample - loss: 0.1831 - acc: 0.9272 - val_loss: 0.2289 - val_acc: 0.9125\n",
      "Epoch 33/40\n",
      "91023/91023 [==============================] - 6s 71us/sample - loss: 0.1816 - acc: 0.9273 - val_loss: 0.2295 - val_acc: 0.9130\n",
      "Epoch 34/40\n",
      "91023/91023 [==============================] - 6s 64us/sample - loss: 0.1807 - acc: 0.9274 - val_loss: 0.2306 - val_acc: 0.9131\n",
      "Epoch 35/40\n",
      "91023/91023 [==============================] - 6s 70us/sample - loss: 0.1792 - acc: 0.9279 - val_loss: 0.2328 - val_acc: 0.9117\n",
      "Epoch 36/40\n",
      "91023/91023 [==============================] - 6s 69us/sample - loss: 0.1782 - acc: 0.9285 - val_loss: 0.2332 - val_acc: 0.9132\n",
      "Epoch 37/40\n",
      "91023/91023 [==============================] - 7s 76us/sample - loss: 0.1769 - acc: 0.9284 - val_loss: 0.2333 - val_acc: 0.9129\n",
      "Epoch 38/40\n",
      "91023/91023 [==============================] - 7s 76us/sample - loss: 0.1762 - acc: 0.9288 - val_loss: 0.2381 - val_acc: 0.9078\n",
      "Epoch 39/40\n",
      "91023/91023 [==============================] - 6s 63us/sample - loss: 0.1744 - acc: 0.9295 - val_loss: 0.2334 - val_acc: 0.9124\n",
      "Epoch 40/40\n",
      "91023/91023 [==============================] - 6s 70us/sample - loss: 0.1733 - acc: 0.9301 - val_loss: 0.2359 - val_acc: 0.9116\n"
     ]
    }
   ],
   "source": [
    "history = model.fit(partial_x_train,\n",
    "                    partial_y_train,\n",
    "                    epochs=40,\n",
    "                    batch_size=512,\n",
    "                    validation_data=(x_val, y_val),\n",
    "                    verbose=1)"
   ]
  },
  {
   "cell_type": "code",
   "execution_count": 23,
   "metadata": {},
   "outputs": [
    {
     "name": "stdout",
     "output_type": "stream",
     "text": [
      "43296/43296 [==============================] - 1s 26us/sample - loss: 0.2389 - acc: 0.9107\n",
      "[0.23892742525221725, 0.9106846]\n"
     ]
    }
   ],
   "source": [
    "results = model.evaluate(test_data, test_df.is_debt_collection)\n",
    "\n",
    "print(results)"
   ]
  },
  {
   "cell_type": "code",
   "execution_count": 24,
   "metadata": {},
   "outputs": [
    {
     "data": {
      "text/plain": [
       "dict_keys(['loss', 'acc', 'val_loss', 'val_acc'])"
      ]
     },
     "execution_count": 24,
     "metadata": {},
     "output_type": "execute_result"
    }
   ],
   "source": [
    "history_dict = history.history\n",
    "history_dict.keys()"
   ]
  },
  {
   "cell_type": "code",
   "execution_count": 25,
   "metadata": {},
   "outputs": [
    {
     "data": {
      "image/png": "[encoded data removed]",
      "text/plain": [
       "<Figure size 432x288 with 1 Axes>"
      ]
     },
     "metadata": {
      "needs_background": "light"
     },
     "output_type": "display_data"
    }
   ],
   "source": [
    "%matplotlib inline\n",
    "\n",
    "import matplotlib.pyplot as plt\n",
    "\n",
    "acc = history_dict['acc']\n",
    "val_acc = history_dict['val_acc']\n",
    "loss = history_dict['loss']\n",
    "val_loss = history_dict['val_loss']\n",
    "\n",
    "epochs = range(1, len(acc) + 1)\n",
    "\n",
    "# \"bo\" is for \"blue dot\"\n",
    "plt.plot(epochs, loss, 'bo', label='Training loss')\n",
    "# b is for \"solid blue line\"\n",
    "plt.plot(epochs, val_loss, 'b', label='Validation loss')\n",
    "plt.title('Training and validation loss')\n",
    "plt.xlabel('Epochs')\n",
    "plt.ylabel('Loss')\n",
    "plt.legend()\n",
    "\n",
    "plt.show()"
   ]
  },
  {
   "cell_type": "code",
   "execution_count": 26,
   "metadata": {},
   "outputs": [
    {
     "data": {
      "image/png": "[encoded data removed]",
      "text/plain": [
       "<Figure size 432x288 with 1 Axes>"
      ]
     },
     "metadata": {
      "needs_background": "light"
     },
     "output_type": "display_data"
    }
   ],
   "source": [
    "plt.clf()   # clear figure\n",
    "\n",
    "plt.plot(epochs, acc, 'bo', label='Training acc')\n",
    "plt.plot(epochs, val_acc, 'b', label='Validation acc')\n",
    "plt.title('Training and validation accuracy')\n",
    "plt.xlabel('Epochs')\n",
    "plt.ylabel('Accuracy')\n",
    "plt.legend()\n",
    "\n",
    "plt.show()"
   ]
  },
  {
   "cell_type": "markdown",
   "metadata": {},
   "source": [
    "#### Traditional Machine Learning"
   ]
  },
  {
   "cell_type": "code",
   "execution_count": 41,
   "metadata": {},
   "outputs": [],
   "source": [
    "from sklearn.feature_extraction.text import TfidfVectorizer\n",
    "from sklearn.naive_bayes import BernoulliNB, ComplementNB, MultinomialNB\n",
    "from sklearn.metrics import accuracy_score"
   ]
  },
  {
   "cell_type": "code",
   "execution_count": 29,
   "metadata": {},
   "outputs": [
    {
     "data": {
      "text/plain": [
       "Index(['Product', 'Consumer complaint narrative', 'Complaint ID',\n",
       "       'is_debt_collection'],\n",
       "      dtype='object')"
      ]
     },
     "execution_count": 29,
     "metadata": {},
     "output_type": "execute_result"
    }
   ],
   "source": [
    "train_df.columns"
   ]
  },
  {
   "cell_type": "code",
   "execution_count": 48,
   "metadata": {},
   "outputs": [],
   "source": [
    "vectorizer = TfidfVectorizer(sublinear_tf=True,\n",
    "                             max_df=0.9,\n",
    "                             min_df=10,\n",
    "                             token_pattern=r'\\b[^\\d\\W]+\\b',\n",
    "                             stop_words='english')\n",
    "\n",
    "X_train = vectorizer.fit_transform(train_df['Consumer complaint narrative'])"
   ]
  },
  {
   "cell_type": "code",
   "execution_count": 49,
   "metadata": {},
   "outputs": [
    {
     "data": {
      "text/plain": [
       "(101023, 11520)"
      ]
     },
     "execution_count": 49,
     "metadata": {},
     "output_type": "execute_result"
    }
   ],
   "source": [
    "X_train.shape"
   ]
  },
  {
   "cell_type": "code",
   "execution_count": 50,
   "metadata": {},
   "outputs": [],
   "source": [
    "X_test = vectorizer.transform(test_df['Consumer complaint narrative'])"
   ]
  },
  {
   "cell_type": "code",
   "execution_count": 51,
   "metadata": {},
   "outputs": [
    {
     "data": {
      "text/plain": [
       "MultinomialNB(alpha=0.01, class_prior=None, fit_prior=True)"
      ]
     },
     "execution_count": 51,
     "metadata": {},
     "output_type": "execute_result"
    }
   ],
   "source": [
    "clf = MultinomialNB(alpha=0.01)\n",
    "clf.fit(X_train, train_df.is_debt_collection)"
   ]
  },
  {
   "cell_type": "code",
   "execution_count": 52,
   "metadata": {},
   "outputs": [],
   "source": [
    "y_predict = clf.predict(X_test)"
   ]
  },
  {
   "cell_type": "code",
   "execution_count": 53,
   "metadata": {},
   "outputs": [
    {
     "data": {
      "text/plain": [
       "0.8900129342202513"
      ]
     },
     "execution_count": 53,
     "metadata": {},
     "output_type": "execute_result"
    }
   ],
   "source": [
    "accuracy_score(y_pred=y_predict, y_true=test_df.is_debt_collection)"
   ]
  }
 ],
 "metadata": {
  "kernelspec": {
   "display_name": "Python 3",
   "language": "python",
   "name": "python3"
  },
  "language_info": {
   "codemirror_mode": {
    "name": "ipython",
    "version": 3
   },
   "file_extension": ".py",
   "mimetype": "text/x-python",
   "name": "python",
   "nbconvert_exporter": "python",
   "pygments_lexer": "ipython3",
   "version": "3.7.1"
  }
 },
 "nbformat": 4,
 "nbformat_minor": 2
}
