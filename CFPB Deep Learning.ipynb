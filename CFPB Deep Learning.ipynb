{
 "cells": [
  {
   "cell_type": "markdown",
   "metadata": {},
   "source": [
    "#### Import Libraries"
   ]
  },
  {
   "cell_type": "code",
   "execution_count": 1,
   "metadata": {},
   "outputs": [],
   "source": [
    "import pandas as pd # data wrangling\n",
    "import tensorflow as tf # deep learning\n",
    "import numpy as np # math\n",
    "from tensorflow import keras\n",
    "from sklearn.model_selection import train_test_split\n",
    "import matplotlib.pyplot as plt # data viz 1\n",
    "import seaborn as sns # data viz 2\n",
    "import statistics"
   ]
  },
  {
   "cell_type": "markdown",
   "metadata": {},
   "source": [
    "#### Import data"
   ]
  },
  {
   "cell_type": "code",
   "execution_count": 2,
   "metadata": {},
   "outputs": [
    {
     "name": "stdout",
     "output_type": "stream",
     "text": [
      "Dataframe's shape (144319, 3)\n",
      "Unique # of Complaints 144319\n"
     ]
    }
   ],
   "source": [
    "complaints_df = pd.read_csv('complaints-2019-06-29_08_09.csv', usecols = ['Product', 'Complaint ID', 'Consumer complaint narrative'])\n",
    "complaints_df.drop_duplicates(inplace=True)\n",
    "print(\"Dataframe's shape\", complaints_df.shape)\n",
    "print(\"Unique # of Complaints\", len(complaints_df['Complaint ID'].unique()))"
   ]
  },
  {
   "cell_type": "code",
   "execution_count": 3,
   "metadata": {},
   "outputs": [
    {
     "data": {
      "text/plain": [
       "Credit reporting, credit repair services, or other personal consumer reports    59944\n",
       "Debt collection                                                                 31538\n",
       "Credit card or prepaid card                                                     14483\n",
       "Mortgage                                                                        12475\n",
       "Checking or savings account                                                      8676\n",
       "Name: Product, dtype: int64"
      ]
     },
     "execution_count": 3,
     "metadata": {},
     "output_type": "execute_result"
    }
   ],
   "source": [
    "complaints_df.Product.value_counts().head()"
   ]
  },
  {
   "cell_type": "code",
   "execution_count": 4,
   "metadata": {},
   "outputs": [],
   "source": [
    "complaints_df['is_debt_collection'] = np.where(complaints_df['Product']=='Debt collection', 1, 0)"
   ]
  },
  {
   "cell_type": "code",
   "execution_count": 5,
   "metadata": {},
   "outputs": [
    {
     "data": {
      "text/plain": [
       "0    112781\n",
       "1     31538\n",
       "Name: is_debt_collection, dtype: int64"
      ]
     },
     "execution_count": 5,
     "metadata": {},
     "output_type": "execute_result"
    }
   ],
   "source": [
    "complaints_df.is_debt_collection.value_counts()"
   ]
  },
  {
   "cell_type": "code",
   "execution_count": 6,
   "metadata": {},
   "outputs": [],
   "source": [
    "train_df, test_df = train_test_split(complaints_df, test_size = 0.3)"
   ]
  },
  {
   "cell_type": "code",
   "execution_count": 7,
   "metadata": {},
   "outputs": [],
   "source": [
    "tokenizer_ks = keras.preprocessing.text.Tokenizer(num_words=6000, filters='!\"#%&()*+,-./:;<=>?@[\\\\]^_`{|}~\\t\\n', lower=True, split=' ', char_level=False, oov_token=None, document_count=0)"
   ]
  },
  {
   "cell_type": "code",
   "execution_count": 8,
   "metadata": {},
   "outputs": [],
   "source": [
    "tokenizer_ks.fit_on_texts(train_df['Consumer complaint narrative'])"
   ]
  },
  {
   "cell_type": "code",
   "execution_count": 9,
   "metadata": {},
   "outputs": [
    {
     "name": "stdout",
     "output_type": "stream",
     "text": [
      "[[3, 11, 255, 942, 503]]\n"
     ]
    }
   ],
   "source": [
    "print(tokenizer_ks.texts_to_sequences([\"i was charged extra $\"])) "
   ]
  },
  {
   "cell_type": "code",
   "execution_count": 10,
   "metadata": {},
   "outputs": [],
   "source": [
    "train_vec = tokenizer_ks.texts_to_sequences(train_df['Consumer complaint narrative'])\n",
    "test_vec  = tokenizer_ks.texts_to_sequences(test_df['Consumer complaint narrative'])"
   ]
  },
  {
   "cell_type": "code",
   "execution_count": 11,
   "metadata": {},
   "outputs": [],
   "source": [
    "lengths = [len(i) for i in train_vec]"
   ]
  },
  {
   "cell_type": "code",
   "execution_count": 12,
   "metadata": {},
   "outputs": [
    {
     "data": {
      "text/plain": [
       "<matplotlib.axes._subplots.AxesSubplot at 0x20fcdd27e10>"
      ]
     },
     "execution_count": 12,
     "metadata": {},
     "output_type": "execute_result"
    },
    {
     "data": {
      "image/png": "[encoded data removed]",
      "text/plain": [
       "<Figure size 1152x576 with 1 Axes>"
      ]
     },
     "metadata": {
      "needs_background": "light"
     },
     "output_type": "display_data"
    }
   ],
   "source": [
    "plt.figure(figsize=(16, 8))\n",
    "sns.set_style('whitegrid')\n",
    "sns.kdeplot(np.array(lengths), bw=0.5, shade=True)"
   ]
  },
  {
   "cell_type": "code",
   "execution_count": 13,
   "metadata": {},
   "outputs": [],
   "source": [
    "train_data = keras.preprocessing.sequence.pad_sequences(train_vec,\n",
    "                                                        padding='post',\n",
    "                                                        maxlen=256)\n",
    "\n",
    "test_data = keras.preprocessing.sequence.pad_sequences(test_vec,\n",
    "                                                       padding='post',\n",
    "                                                       maxlen=256)"
   ]
  },
  {
   "cell_type": "code",
   "execution_count": 14,
   "metadata": {},
   "outputs": [],
   "source": [
    "reverse_word_index = dict([(value, key) for (key, value) in tokenizer_ks.word_index.items()])\n",
    "\n",
    "def decode_review(text):\n",
    "    return ' '.join([reverse_word_index.get(i, '?') for i in text])"
   ]
  },
  {
   "cell_type": "code",
   "execution_count": 15,
   "metadata": {},
   "outputs": [
    {
     "data": {
      "text/plain": [
       "\"i started attending xxxx xxxx in xx xx 2009 i went a year without any problems then i went through some life changing problems and had to stop for a short time about a month or two when i went to re enroll they had canceled my program xxxx xxxx and could no longer get a associates in that area of so i switched programs but they just were not for me now i have all this debt no degree and credits that nobody wants i'm stuck and very upset about it no one wants to work with me on out a solution other than asking for the loan payback while attending the college they were unprofessional and it seemed like they just wanted you to just through the what i mean is it seemed like they just passed you no matter if you learned the or not just to get you out of there i feel like i learned nothing from this college other than how to spend a ton of money while getting absolutely nothing in return i was ? ? ? ? ? ? ? ? ? ? ? ? ? ? ? ? ? ? ? ? ? ? ? ? ? ? ? ? ? ? ? ? ? ? ? ? ? ? ? ? ? ? ? ? ? ? ? ? ? ? ? ? ? ? ? ? ? ? ? ? ? ? ? ? ? ? ? ? ? ? ? ? ? ? ?\""
      ]
     },
     "execution_count": 15,
     "metadata": {},
     "output_type": "execute_result"
    }
   ],
   "source": [
    "decode_review(train_data[0])"
   ]
  },
  {
   "cell_type": "code",
   "execution_count": 16,
   "metadata": {},
   "outputs": [
    {
     "data": {
      "text/plain": [
       "\"i started attending xxxx xxxx in xx xx 2009 i went a year without any problems then i went through some life changing problems and had to stop for a short time about a month or two when i went to re enroll they had canceled my program xxxx xxxx and could no longer get a associates in that area of so i switched programs but they just were not for me now i have all this debt no degree and credits that nobody wants i'm stuck and very upset about it no one wants to work with me on out a solution other than asking for the loan payback while attending the college they were unprofessional and it seemed like they just wanted you to just through the what i mean is it seemed like they just passed you no matter if you learned the or not just to get you out of there i feel like i learned nothing from this college other than how to spend a ton of money while getting absolutely nothing in return i was\""
      ]
     },
     "execution_count": 16,
     "metadata": {},
     "output_type": "execute_result"
    }
   ],
   "source": [
    "decode_review(train_vec[0])"
   ]
  },
  {
   "cell_type": "code",
   "execution_count": 17,
   "metadata": {},
   "outputs": [
    {
     "name": "stdout",
     "output_type": "stream",
     "text": [
      "WARNING:tensorflow:From C:\\Users\\rcpra\\Anaconda3\\lib\\site-packages\\tensorflow\\python\\ops\\resource_variable_ops.py:435: colocate_with (from tensorflow.python.framework.ops) is deprecated and will be removed in a future version.\n",
      "Instructions for updating:\n",
      "Colocations handled automatically by placer.\n",
      "_________________________________________________________________\n",
      "Layer (type)                 Output Shape              Param #   \n",
      "=================================================================\n",
      "embedding (Embedding)        (None, None, 16)          96000     \n",
      "_________________________________________________________________\n",
      "global_average_pooling1d (Gl (None, 16)                0         \n",
      "_________________________________________________________________\n",
      "dense (Dense)                (None, 16)                272       \n",
      "_________________________________________________________________\n",
      "dense_1 (Dense)              (None, 1)                 17        \n",
      "=================================================================\n",
      "Total params: 96,289\n",
      "Trainable params: 96,289\n",
      "Non-trainable params: 0\n",
      "_________________________________________________________________\n"
     ]
    }
   ],
   "source": [
    "# input shape is the vocabulary count used for the complaint data (6000 words)\n",
    "vocab_size = 6000\n",
    "\n",
    "model = keras.Sequential()\n",
    "model.add(keras.layers.Embedding(vocab_size, 16))\n",
    "model.add(keras.layers.GlobalAveragePooling1D())\n",
    "model.add(keras.layers.Dense(16, activation=tf.nn.relu))\n",
    "model.add(keras.layers.Dense(1, activation=tf.nn.sigmoid))\n",
    "\n",
    "model.summary()"
   ]
  },
  {
   "cell_type": "code",
   "execution_count": 18,
   "metadata": {},
   "outputs": [],
   "source": [
    "model.compile(optimizer='adam',\n",
    "              loss='binary_crossentropy',\n",
    "              metrics=['acc'])"
   ]
  },
  {
   "cell_type": "code",
   "execution_count": null,
   "metadata": {},
   "outputs": [],
   "source": [
    "x_val = train_data[:10000]\n",
    "partial_x_train = train_data[10000:]\n",
    "\n",
    "y_val = train_df.is_debt_collection[:10000]\n",
    "partial_y_train = train_df.is_debt_collection[10000:]"
   ]
  },
  {
   "cell_type": "code",
   "execution_count": null,
   "metadata": {},
   "outputs": [
    {
     "data": {
      "text/plain": [
       "(10000, 256)"
      ]
     },
     "execution_count": 20,
     "metadata": {},
     "output_type": "execute_result"
    }
   ],
   "source": [
    "x_val.shape"
   ]
  },
  {
   "cell_type": "code",
   "execution_count": null,
   "metadata": {},
   "outputs": [
    {
     "data": {
      "text/plain": [
       "(91023, 256)"
      ]
     },
     "execution_count": 21,
     "metadata": {},
     "output_type": "execute_result"
    }
   ],
   "source": [
    "partial_x_train.shape"
   ]
  },
  {
   "cell_type": "code",
   "execution_count": null,
   "metadata": {
    "scrolled": false
   },
   "outputs": [
    {
     "name": "stdout",
     "output_type": "stream",
     "text": [
      "Train on 91023 samples, validate on 10000 samples\n",
      "WARNING:tensorflow:From C:\\Users\\rcpra\\Anaconda3\\lib\\site-packages\\tensorflow\\python\\ops\\math_ops.py:3066: to_int32 (from tensorflow.python.ops.math_ops) is deprecated and will be removed in a future version.\n",
      "Instructions for updating:\n",
      "Use tf.cast instead.\n",
      "Epoch 1/40\n",
      "91023/91023 [==============================] - 6s 64us/sample - loss: 0.5590 - acc: 0.7811 - val_loss: 0.4982 - val_acc: 0.7822\n",
      "Epoch 2/40\n",
      "91023/91023 [==============================] - 5s 56us/sample - loss: 0.4656 - acc: 0.7831 - val_loss: 0.4127 - val_acc: 0.7957\n",
      "Epoch 3/40\n",
      "91023/91023 [==============================] - 5s 55us/sample - loss: 0.3393 - acc: 0.8491 - val_loss: 0.2903 - val_acc: 0.8819\n",
      "Epoch 4/40\n",
      "91023/91023 [==============================] - 5s 57us/sample - loss: 0.2720 - acc: 0.8928 - val_loss: 0.2669 - val_acc: 0.8970\n",
      "Epoch 5/40\n",
      "91023/91023 [==============================] - 6s 69us/sample - loss: 0.2550 - acc: 0.9011 - val_loss: 0.2586 - val_acc: 0.8943\n",
      "Epoch 6/40\n",
      "91023/91023 [==============================] - 7s 72us/sample - loss: 0.2456 - acc: 0.9054 - val_loss: 0.2514 - val_acc: 0.9028\n",
      "Epoch 7/40\n",
      "91023/91023 [==============================] - 6s 66us/sample - loss: 0.2383 - acc: 0.9085 - val_loss: 0.2461 - val_acc: 0.9052\n",
      "Epoch 8/40\n",
      "91023/91023 [==============================] - 6s 67us/sample - loss: 0.2319 - acc: 0.9110 - val_loss: 0.2418 - val_acc: 0.9075\n",
      "Epoch 9/40\n",
      "91023/91023 [==============================] - 6s 65us/sample - loss: 0.2263 - acc: 0.9131 - val_loss: 0.2379 - val_acc: 0.9063\n",
      "Epoch 10/40\n",
      "91023/91023 [==============================] - 6s 65us/sample - loss: 0.2219 - acc: 0.9151 - val_loss: 0.2361 - val_acc: 0.9062\n",
      "Epoch 11/40\n",
      "91023/91023 [==============================] - 6s 65us/sample - loss: 0.2183 - acc: 0.9166 - val_loss: 0.2341 - val_acc: 0.9101\n",
      "Epoch 12/40\n",
      "91023/91023 [==============================] - 6s 65us/sample - loss: 0.2152 - acc: 0.9176 - val_loss: 0.2328 - val_acc: 0.9100\n",
      "Epoch 13/40\n",
      "91023/91023 [==============================] - 6s 66us/sample - loss: 0.2124 - acc: 0.9185 - val_loss: 0.2325 - val_acc: 0.9095\n",
      "Epoch 14/40\n",
      "91023/91023 [==============================] - 6s 66us/sample - loss: 0.2100 - acc: 0.9195 - val_loss: 0.2312 - val_acc: 0.9129\n",
      "Epoch 15/40\n",
      "91023/91023 [==============================] - 6s 66us/sample - loss: 0.2077 - acc: 0.9206 - val_loss: 0.2317 - val_acc: 0.9114\n",
      "Epoch 16/40\n",
      "91023/91023 [==============================] - 6s 66us/sample - loss: 0.2056 - acc: 0.9212 - val_loss: 0.2306 - val_acc: 0.9132\n",
      "Epoch 17/40\n",
      "91023/91023 [==============================] - 7s 73us/sample - loss: 0.2033 - acc: 0.9221 - val_loss: 0.2318 - val_acc: 0.9135\n",
      "Epoch 18/40\n",
      "91023/91023 [==============================] - 7s 75us/sample - loss: 0.2017 - acc: 0.9223 - val_loss: 0.2304 - val_acc: 0.9119\n",
      "Epoch 19/40\n",
      "91023/91023 [==============================] - 7s 75us/sample - loss: 0.1995 - acc: 0.9234 - val_loss: 0.2303 - val_acc: 0.9136\n",
      "Epoch 20/40\n",
      "91023/91023 [==============================] - 7s 80us/sample - loss: 0.1977 - acc: 0.9241 - val_loss: 0.2305 - val_acc: 0.9125\n",
      "Epoch 21/40\n",
      "91023/91023 [==============================] - 7s 76us/sample - loss: 0.1960 - acc: 0.9244 - val_loss: 0.2301 - val_acc: 0.9128\n",
      "Epoch 22/40\n",
      "91023/91023 [==============================] - 8s 84us/sample - loss: 0.1941 - acc: 0.9252 - val_loss: 0.2308 - val_acc: 0.9129\n",
      "Epoch 23/40\n",
      "91023/91023 [==============================] - 7s 73us/sample - loss: 0.1926 - acc: 0.9260 - val_loss: 0.2306 - val_acc: 0.9127\n",
      "Epoch 24/40\n",
      "91023/91023 [==============================] - 7s 77us/sample - loss: 0.1909 - acc: 0.9261 - val_loss: 0.2320 - val_acc: 0.9112\n",
      "Epoch 25/40\n",
      "91023/91023 [==============================] - 7s 73us/sample - loss: 0.1895 - acc: 0.9264 - val_loss: 0.2328 - val_acc: 0.9131\n",
      "Epoch 26/40\n",
      "91023/91023 [==============================] - 6s 69us/sample - loss: 0.1876 - acc: 0.9275 - val_loss: 0.2319 - val_acc: 0.9119\n",
      "Epoch 27/40\n",
      "91023/91023 [==============================] - 6s 69us/sample - loss: 0.1863 - acc: 0.9273 - val_loss: 0.2325 - val_acc: 0.9115\n",
      "Epoch 28/40\n",
      "91023/91023 [==============================] - 6s 69us/sample - loss: 0.1845 - acc: 0.9284 - val_loss: 0.2330 - val_acc: 0.9094\n",
      "Epoch 29/40\n",
      "91023/91023 [==============================] - 7s 73us/sample - loss: 0.1832 - acc: 0.9290 - val_loss: 0.2330 - val_acc: 0.9109\n",
      "Epoch 30/40\n",
      "91023/91023 [==============================] - 7s 73us/sample - loss: 0.1814 - acc: 0.9297 - val_loss: 0.2338 - val_acc: 0.9108\n",
      "Epoch 31/40\n",
      "30208/91023 [========>.....................] - ETA: 4s - loss: 0.1787 - acc: 0.9318"
     ]
    }
   ],
   "source": [
    "history = model.fit(partial_x_train,\n",
    "                    partial_y_train,\n",
    "                    epochs=40,\n",
    "                    batch_size=512,\n",
    "                    validation_data=(x_val, y_val),\n",
    "                    verbose=1)"
   ]
  },
  {
   "cell_type": "code",
   "execution_count": null,
   "metadata": {},
   "outputs": [],
   "source": [
    "results = model.evaluate(test_data, test_df.is_debt_collection)\n",
    "\n",
    "print(results)"
   ]
  },
  {
   "cell_type": "code",
   "execution_count": null,
   "metadata": {},
   "outputs": [],
   "source": [
    "history_dict = history.history\n",
    "history_dict.keys()"
   ]
  },
  {
   "cell_type": "code",
   "execution_count": null,
   "metadata": {},
   "outputs": [],
   "source": [
    "%matplotlib inline\n",
    "\n",
    "import matplotlib.pyplot as plt\n",
    "\n",
    "acc = history_dict['acc']\n",
    "val_acc = history_dict['val_acc']\n",
    "loss = history_dict['loss']\n",
    "val_loss = history_dict['val_loss']\n",
    "\n",
    "epochs = range(1, len(acc) + 1)\n",
    "\n",
    "# \"bo\" is for \"blue dot\"\n",
    "plt.plot(epochs, loss, 'bo', label='Training loss')\n",
    "# b is for \"solid blue line\"\n",
    "plt.plot(epochs, val_loss, 'b', label='Validation loss')\n",
    "plt.title('Training and validation loss')\n",
    "plt.xlabel('Epochs')\n",
    "plt.ylabel('Loss')\n",
    "plt.legend()\n",
    "\n",
    "plt.show()"
   ]
  },
  {
   "cell_type": "code",
   "execution_count": null,
   "metadata": {},
   "outputs": [],
   "source": [
    "plt.clf()   # clear figure\n",
    "\n",
    "plt.plot(epochs, acc, 'bo', label='Training acc')\n",
    "plt.plot(epochs, val_acc, 'b', label='Validation acc')\n",
    "plt.title('Training and validation accuracy')\n",
    "plt.xlabel('Epochs')\n",
    "plt.ylabel('Accuracy')\n",
    "plt.legend()\n",
    "\n",
    "plt.show()"
   ]
  },
  {
   "cell_type": "code",
   "execution_count": null,
   "metadata": {},
   "outputs": [],
   "source": []
  }
 ],
 "metadata": {
  "kernelspec": {
   "display_name": "Python 3",
   "language": "python",
   "name": "python3"
  },
  "language_info": {
   "codemirror_mode": {
    "name": "ipython",
    "version": 3
   },
   "file_extension": ".py",
   "mimetype": "text/x-python",
   "name": "python",
   "nbconvert_exporter": "python",
   "pygments_lexer": "ipython3",
   "version": "3.7.1"
  }
 },
 "nbformat": 4,
 "nbformat_minor": 2
}
